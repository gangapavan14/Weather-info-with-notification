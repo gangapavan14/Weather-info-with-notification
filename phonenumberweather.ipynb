{
 "cells": [
  {
   "cell_type": "code",
   "execution_count": null,
   "id": "91034a9d",
   "metadata": {},
   "outputs": [
    {
     "name": "stderr",
     "output_type": "stream",
     "text": [
      "C:\\Users\\bonag\\AppData\\Local\\Temp\\ipykernel_23240\\766282530.py:71: DeprecationWarning: ANTIALIAS is deprecated and will be removed in Pillow 10 (2023-07-01). Use Resampling.LANCZOS instead.\n",
      "  map_image = map_image.resize((28, 28), Image.ANTIALIAS)\n"
     ]
    },
    {
     "name": "stdout",
     "output_type": "stream",
     "text": [
      "SMS sent successfully!\n"
     ]
    }
   ],
   "source": [
    "import time\n",
    "from tkinter import *\n",
    "from tkinter import messagebox as mb\n",
    "import requests\n",
    "from plyer import notification\n",
    "from PIL import Image, ImageTk\n",
    "from twilio.rest import Client\n",
    "\n",
    "#creating the window\n",
    "wn = Tk()\n",
    "wn.title(\"PythonGeeks Weather Alert\")\n",
    "wn.geometry('739x415')\n",
    "\n",
    "#Adding a background image\n",
    "bg_image = PhotoImage(file=\"weather.png\")\n",
    "bg_label = Label(wn, image=bg_image)\n",
    "bg_label.place(relwidth=1, relheight=1)\n",
    "\n",
    "# Getting the city name\n",
    "Label(wn, text='Enter live location:',font=('Algeran',15),bg='#00579c').place(x=40,y=20)\n",
    "\n",
    "place = StringVar(wn)\n",
    "place_entry = Entry(wn, width=30,borderwidth=6,fg='black',bg='#8dc7f7',textvariable=place,font=('#fdbd51',10))\n",
    "place_entry.place(x=360, y=20)\n",
    "\n",
    "# Twilio credentials\n",
    "account_sid = 'ACcc33337a088a8868147bdfa8a5980ab7'\n",
    "auth_token = '93933a385dbd3b9b6b15abe75de27fb1'\n",
    "client = Client(account_sid, auth_token)\n",
    "\n",
    "def getNotification():\n",
    "    cityName = place.get()\n",
    "    baseUrl = \"http://api.openweathermap.org/data/2.5/weather?\"\n",
    "    try:\n",
    "        url = baseUrl + \"appid=\" + '80b341e33b3d0d0214b1fd41b131d171' + \"&q=\" + cityName\n",
    "        response = requests.get(url)\n",
    "        x = response.json()\n",
    "        y = x[\"main\"]\n",
    "        temp = y[\"temp\"]\n",
    "        temp -= 273\n",
    "        pres = y[\"pressure\"]\n",
    "        hum = y[\"humidity\"]\n",
    "        z = x[\"weather\"]\n",
    "        weather_desc = z[0][\"description\"]\n",
    "        info = \"Here is the weather description of \" + cityName + \":\" + \"\\nTemperature = \" + str(temp) + \"°C\" + \"\\nAtmospheric pressure = \" + str(pres) + \"hPa\" + \"\\nHumidity = \" + str(hum) + \"%\" + \"\\nDescription of the weather = \" + str(weather_desc)\n",
    "\n",
    "        # Sending SMS using Twilio\n",
    "        message = client.messages.create(\n",
    "            body=info,\n",
    "            from_='+16203250991',\n",
    "            to='+919492982781'\n",
    "        )\n",
    "        print(\"SMS sent successfully!\")\n",
    "\n",
    "        # Showing notification\n",
    "        notification.notify(\n",
    "            title=\"YOUR WEATHER REPORT\",\n",
    "            message=info,\n",
    "            timeout=2\n",
    "        )\n",
    "        time.sleep(7)\n",
    "\n",
    "    except Exception as e:\n",
    "        mb.showerror('Error', e)\n",
    "\n",
    "# Button to get notification\n",
    "btn = Button(wn, text='Get Notification', font=1, fg='black',bg='#ffbc54',command=getNotification).place(x=280, y=280)\n",
    "\n",
    "# Set the background image\n",
    "map_image = Image.open(\"pin.png\")\n",
    "map_image = map_image.resize((28, 28), Image.ANTIALIAS)\n",
    "map_photo = ImageTk.PhotoImage(map_image)\n",
    "map_label = Label(wn, image=map_photo)\n",
    "map_label.place(x=555, y=19)\n",
    "\n",
    "# Run the window until it's closed by the user\n",
    "wn.mainloop()\n"
   ]
  },
  {
   "cell_type": "code",
   "execution_count": null,
   "id": "b9fce340",
   "metadata": {},
   "outputs": [],
   "source": []
  }
 ],
 "metadata": {
  "kernelspec": {
   "display_name": "Python 3 (ipykernel)",
   "language": "python",
   "name": "python3"
  },
  "language_info": {
   "codemirror_mode": {
    "name": "ipython",
    "version": 3
   },
   "file_extension": ".py",
   "mimetype": "text/x-python",
   "name": "python",
   "nbconvert_exporter": "python",
   "pygments_lexer": "ipython3",
   "version": "3.9.13"
  }
 },
 "nbformat": 4,
 "nbformat_minor": 5
}
